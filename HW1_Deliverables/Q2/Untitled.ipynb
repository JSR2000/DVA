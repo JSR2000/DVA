{
 "cells": [
  {
   "cell_type": "code",
   "execution_count": 35,
   "metadata": {},
   "outputs": [
    {
     "data": {
      "text/plain": [
       "<sqlite3.Cursor at 0x261939bf420>"
      ]
     },
     "execution_count": 35,
     "metadata": {},
     "output_type": "execute_result"
    }
   ],
   "source": [
    "import sqlite3 \n",
    "from sqlite3 import*\n",
    "# .cd C:/Users/r2d2/Documents/6242/HW1/Q2\n",
    "conn = sqlite3.connect(\"Q2.db\")\n",
    "curs = conn.cursor()\n",
    "#db.CREATE TABLE sets(set_num str, name str, year int, theme_id int, num_parts int);\n",
    "curs.execute(\"drop table if exists sets;\")\n",
    "curs.execute(\"drop table if exists themes\")\n",
    "curs.execute(\"drop table if exists parts\")\n",
    "curs.execute(\"create table sets(set_num str, name str, year int, theme_id int, num_parts int);\")\n",
    "curs.execute(\"create table themes(id int, name str, parent_id int);\")\n",
    "curs.execute(\"create table parts(part_num str, name str, part_cat_id int, part_material_id int)\")\n",
    "#curs.close()\n",
    "#conn.close()\n",
    "\n"
   ]
  }
 ],
 "metadata": {
  "kernelspec": {
   "display_name": "Python 3",
   "language": "python",
   "name": "python3"
  },
  "language_info": {
   "codemirror_mode": {
    "name": "ipython",
    "version": 3
   },
   "file_extension": ".py",
   "mimetype": "text/x-python",
   "name": "python",
   "nbconvert_exporter": "python",
   "pygments_lexer": "ipython3",
   "version": "3.7.1"
  }
 },
 "nbformat": 4,
 "nbformat_minor": 2
}
